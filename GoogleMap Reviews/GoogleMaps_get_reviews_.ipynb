{
 "cells": [
  {
   "cell_type": "markdown",
   "metadata": {
    "id": "JpB2SGENYjjw"
   },
   "source": [
    "# Get Reviews from Google Maps\n",
    "### Using the GoogleMaps API & Python"
   ]
  },
  {
   "cell_type": "markdown",
   "metadata": {},
   "source": [
    "First, you will need an API key. See this link to get yours:\n",
    "\n",
    "https://developers.google.com/places/web-service/get-api-key#creating-api-keys\n",
    "\n",
    "www.github.com/LiamPearson\n",
    "\n",
    "### Note:\n",
    "- Only 5 reviews per place (unless you 'own' the place)\n",
    "- Need a GCP (Google Could Platform) API key\n",
    "\n",
    "### Approach\n",
    "1. Convert the Business Name to a place_id (uses 'place**s**')\n",
    "2. Get the corresponding review & rating for that place_id (uses 'place')"
   ]
  },
  {
   "cell_type": "markdown",
   "metadata": {},
   "source": [
    "## Install and import libraries"
   ]
  },
  {
   "cell_type": "code",
   "execution_count": 1,
   "metadata": {
    "id": "Y5OjM_80YJ4g"
   },
   "outputs": [
    {
     "name": "stdout",
     "output_type": "stream",
     "text": [
      "Requirement already up-to-date: googlemaps in /anaconda/lib/python3.8/site-packages (4.4.2)\n",
      "Requirement already satisfied, skipping upgrade: requests<3.0,>=2.20.0 in /anaconda/lib/python3.8/site-packages (from googlemaps) (2.24.0)\n",
      "Requirement already satisfied, skipping upgrade: certifi>=2017.4.17 in /anaconda/lib/python3.8/site-packages (from requests<3.0,>=2.20.0->googlemaps) (2020.6.20)\n",
      "Requirement already satisfied, skipping upgrade: chardet<4,>=3.0.2 in /anaconda/lib/python3.8/site-packages (from requests<3.0,>=2.20.0->googlemaps) (3.0.4)\n",
      "Requirement already satisfied, skipping upgrade: idna<3,>=2.5 in /anaconda/lib/python3.8/site-packages (from requests<3.0,>=2.20.0->googlemaps) (2.10)\n",
      "Requirement already satisfied, skipping upgrade: urllib3!=1.25.0,!=1.25.1,<1.26,>=1.21.1 in /anaconda/lib/python3.8/site-packages (from requests<3.0,>=2.20.0->googlemaps) (1.25.10)\n"
     ]
    }
   ],
   "source": [
    "! pip install -U googlemaps\n",
    "\n",
    "import googlemaps \n",
    "import pandas as pd"
   ]
  },
  {
   "cell_type": "markdown",
   "metadata": {},
   "source": [
    "## Get a googlemaps object"
   ]
  },
  {
   "cell_type": "code",
   "execution_count": 2,
   "metadata": {},
   "outputs": [],
   "source": [
    "gmaps = googlemaps.Client(key='INSERT_KEY_HERE')"
   ]
  },
  {
   "cell_type": "markdown",
   "metadata": {},
   "source": [
    "## Example: Import reviews for 1 restaurant\n",
    "### 1) Get Place ID\n",
    "Once you have a place_id from a __Place Search__ , you can request more details about a particular establishment or point of interest by initiating a Place Details request. A Place Details request returns more comprehensive information about the indicated place such as its complete address, phone number, user rating and reviews.\n",
    "\n",
    "Review <-- place_id <-- Business Name "
   ]
  },
  {
   "cell_type": "code",
   "execution_count": 15,
   "metadata": {},
   "outputs": [
    {
     "data": {
      "text/plain": [
       "'ChIJWaQdXNqYEmsRSDGs1WmgHlQ'"
      ]
     },
     "execution_count": 15,
     "metadata": {},
     "output_type": "execute_result"
    }
   ],
   "source": [
    "place_name = 'Mcdonalds Arndell Park'\n",
    "\n",
    "places_result = gmaps.places(place_name)\n",
    "place_id = places_result['results'][0]['place_id']\n",
    "place_id"
   ]
  },
  {
   "cell_type": "markdown",
   "metadata": {},
   "source": [
    "### 2) Get Review (5-star rating and text)"
   ]
  },
  {
   "cell_type": "code",
   "execution_count": 16,
   "metadata": {},
   "outputs": [
    {
     "data": {
      "text/html": [
       "<div>\n",
       "<style scoped>\n",
       "    .dataframe tbody tr th:only-of-type {\n",
       "        vertical-align: middle;\n",
       "    }\n",
       "\n",
       "    .dataframe tbody tr th {\n",
       "        vertical-align: top;\n",
       "    }\n",
       "\n",
       "    .dataframe thead th {\n",
       "        text-align: right;\n",
       "    }\n",
       "</style>\n",
       "<table border=\"1\" class=\"dataframe\">\n",
       "  <thead>\n",
       "    <tr style=\"text-align: right;\">\n",
       "      <th></th>\n",
       "      <th>rating</th>\n",
       "      <th>text</th>\n",
       "    </tr>\n",
       "  </thead>\n",
       "  <tbody>\n",
       "    <tr>\n",
       "      <th>0</th>\n",
       "      <td>1</td>\n",
       "      <td>I went to Arndell Park McDonald’s after School...</td>\n",
       "    </tr>\n",
       "    <tr>\n",
       "      <th>1</th>\n",
       "      <td>4</td>\n",
       "      <td>When I go see friends I pop in to Maca's the S...</td>\n",
       "    </tr>\n",
       "    <tr>\n",
       "      <th>2</th>\n",
       "      <td>1</td>\n",
       "      <td>Got order wrong. Took 20 minutes, and charged ...</td>\n",
       "    </tr>\n",
       "    <tr>\n",
       "      <th>3</th>\n",
       "      <td>5</td>\n",
       "      <td>Big place, lots of seating.</td>\n",
       "    </tr>\n",
       "    <tr>\n",
       "      <th>4</th>\n",
       "      <td>1</td>\n",
       "      <td>I rarely get McDonald’s but this is the last t...</td>\n",
       "    </tr>\n",
       "  </tbody>\n",
       "</table>\n",
       "</div>"
      ],
      "text/plain": [
       "   rating                                               text\n",
       "0       1  I went to Arndell Park McDonald’s after School...\n",
       "1       4  When I go see friends I pop in to Maca's the S...\n",
       "2       1  Got order wrong. Took 20 minutes, and charged ...\n",
       "3       5                        Big place, lots of seating.\n",
       "4       1  I rarely get McDonald’s but this is the last t..."
      ]
     },
     "execution_count": 16,
     "metadata": {},
     "output_type": "execute_result"
    }
   ],
   "source": [
    "place = gmaps.place(place_id = place_id)\n",
    "\n",
    "reviews = [] #empty list which will hold dictionaries of reviews\n",
    "\n",
    "for i in range(len(place['result']['reviews'])):\n",
    "    text = place['result']['reviews'][i]['text']\n",
    "    rating = place['result']['reviews'][i]['rating']\n",
    "    \n",
    "    reviews.append({'rating':rating,\n",
    "                   'text':text\n",
    "                   }\n",
    "                  )\n",
    "    \n",
    "df = pd.DataFrame(reviews)\n",
    "df\n",
    "    "
   ]
  },
  {
   "cell_type": "code",
   "execution_count": 19,
   "metadata": {},
   "outputs": [],
   "source": [
    "# if you want to save to csv:\n",
    "#df.to_csv('Mcdonalds_google_reviews.csv', index=False)"
   ]
  }
 ],
 "metadata": {
  "colab": {
   "collapsed_sections": [],
   "name": "Welcome To Colaboratory",
   "provenance": [],
   "toc_visible": true
  },
  "kernelspec": {
   "display_name": "Python 3",
   "language": "python",
   "name": "python3"
  },
  "language_info": {
   "codemirror_mode": {
    "name": "ipython",
    "version": 3
   },
   "file_extension": ".py",
   "mimetype": "text/x-python",
   "name": "python",
   "nbconvert_exporter": "python",
   "pygments_lexer": "ipython3",
   "version": "3.8.3"
  }
 },
 "nbformat": 4,
 "nbformat_minor": 1
}
